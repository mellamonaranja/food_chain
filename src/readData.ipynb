{
 "cells": [
  {
   "cell_type": "code",
   "execution_count": null,
   "id": "29eeb5f7-c7ef-4de1-b997-a7229f02cf1a",
   "metadata": {},
   "outputs": [],
   "source": [
    "import warnings\n",
    "warnings.filterwarnings(action='ignore')\n",
    "\n",
    "from mlxtend.frequent_patterns import association_rules, apriori, fpgrowth\n",
    "from mlxtend.preprocessing import TransactionEncoder\n",
    "from sklearn.preprocessing import LabelEncoder\n",
    "import sklearn\n",
    "from sklearn.decomposition import TruncatedSVD\n",
    "import pandas as pd \n",
    "import numpy as np\n",
    "import matplotlib.pyplot as plt\n",
    "%matplotlib inline\n",
    "import seaborn as sns \n",
    "import platform\n",
    "import re\n",
    "from matplotlib import font_manager, rc\n",
    "plt.rcParams['axes.unicode_minus']= False \n",
    "\n",
    "if platform.system() == 'Darwin': \n",
    "    plt.style.use('seaborn-darkgrid') \n",
    "    rc('font', family = 'AppleGothic') "
   ]
  },
  {
   "cell_type": "code",
   "execution_count": null,
   "id": "e8ce2b38-1218-4633-a213-8c22182d1117",
   "metadata": {},
   "outputs": [],
   "source": [
    "from glob import glob\n",
    "files = glob(\"./dataset/supply_chain/*.xls\")"
   ]
  },
  {
   "cell_type": "code",
   "execution_count": null,
   "id": "cd7b3031-d93e-4330-9dd4-a2d2a855febf",
   "metadata": {},
   "outputs": [],
   "source": [
    "df_list = [] \n",
    "for file in files:\n",
    "    df_raw = pd.read_excel(file, \"Table1\", \n",
    "                      dtype={\n",
    "                          'No':int,\n",
    "                          '일자':str,\n",
    "                          '매출처':str,\n",
    "                          '코드':str,\n",
    "                          '품목명': str,\n",
    "                          '규격': str,\n",
    "                          '원산지': str,\n",
    "                          '단위': str,\n",
    "                          '수량': float,\n",
    "                          '단가': float,\n",
    "                          '합계': float,\n",
    "                          '금액': float,\n",
    "                          '세액': float,\n",
    "                          '비고': str                          \n",
    "                      }\n",
    "        )\n",
    "    df_list.append(df_raw)\n",
    "    \n"
   ]
  },
  {
   "cell_type": "code",
   "execution_count": null,
   "id": "04b5b9d7-c066-49b0-b9f7-62d2bdccc30b",
   "metadata": {},
   "outputs": [],
   "source": [
    "class DataConnector:\n",
    "    \n",
    "    def __init__(self):\n",
    "        print('Connecting')\n",
    "    \n",
    "    def df_preprocess(df_list):\n",
    "        df_raw = pd.concat(df_list)\n",
    "        df_raw.fillna(\"\", inplace=True)\n",
    "        df_raw.rename(columns={\"일자\":\"day\",\"매출처\":\"customer\",\"코드\":\"code\",\"수량\":\"quantity\", \"단가\":\"price\", \"합계\":\"total\", \"금액\":\"sum\", \"세액\":\"tax\", \"비고\":\"etc\"}, inplace=True)\n",
    "        df_raw = df_raw[df_raw[\"etc\"].str.contains(\"취소\")==False]\n",
    "        df_raw = df_raw[df_raw[\"etc\"].str.contains(\"반품\")==False]\n",
    "        df_raw = df_raw[df_raw[\"quantity\"]!=0]\n",
    "        df_raw = df_raw.drop(df_raw[df_raw[\"day\"]==\"소계\"].index)\n",
    "        df_raw = df_raw.drop(df_raw[df_raw[\"day\"]==\"합계\"].index)\n",
    "        df = df_raw.copy()\n",
    "        df.drop(columns=[\"No\",\"규격\",\"단위\",\"total\",\"tax\",\"etc\"], inplace=True)\n",
    "        return df\n",
    "    "
   ]
  },
  {
   "cell_type": "code",
   "execution_count": null,
   "id": "183d6731-e0e0-4627-b184-4daf6c899ba3",
   "metadata": {},
   "outputs": [],
   "source": [
    "temp=DataConnector.df_preprocess(df_list)\n",
    "temp.isnull()"
   ]
  },
  {
   "cell_type": "code",
   "execution_count": null,
   "id": "62257c6b-0452-45d8-a65f-419983cf342b",
   "metadata": {},
   "outputs": [],
   "source": [
    "from readDataCopy import DataConnector"
   ]
  },
  {
   "cell_type": "code",
   "execution_count": 22,
   "id": "50630c09-c6bf-49b6-adce-23acd9c67f3d",
   "metadata": {},
   "outputs": [
    {
     "ename": "NameError",
     "evalue": "name 'pd' is not defined",
     "output_type": "error",
     "traceback": [
      "\u001b[0;31m---------------------------------------------------------------------------\u001b[0m",
      "\u001b[0;31mNameError\u001b[0m                                 Traceback (most recent call last)",
      "Input \u001b[0;32mIn [22]\u001b[0m, in \u001b[0;36m<cell line: 1>\u001b[0;34m()\u001b[0m\n\u001b[0;32m----> 1\u001b[0m temp \u001b[38;5;241m=\u001b[39m \u001b[43mDataConnector\u001b[49m\u001b[38;5;241;43m.\u001b[39;49m\u001b[43mdf_preprocess\u001b[49m\u001b[43m(\u001b[49m\u001b[43mdf_list\u001b[49m\u001b[43m)\u001b[49m\n",
      "File \u001b[0;32m~/joohyun-nfs/jupyter/ABC_food/ABC_food/readDataCopy.py:7\u001b[0m, in \u001b[0;36mDataConnector.df_preprocess\u001b[0;34m(df_list)\u001b[0m\n\u001b[1;32m      6\u001b[0m \u001b[38;5;28;01mdef\u001b[39;00m \u001b[38;5;21mdf_preprocess\u001b[39m(df_list):\n\u001b[0;32m----> 7\u001b[0m     df_raw \u001b[38;5;241m=\u001b[39m \u001b[43mpd\u001b[49m\u001b[38;5;241m.\u001b[39mconcat(df_list)\n\u001b[1;32m      8\u001b[0m     df_raw\u001b[38;5;241m.\u001b[39mfillna(\u001b[38;5;124m\"\u001b[39m\u001b[38;5;124m\"\u001b[39m, inplace\u001b[38;5;241m=\u001b[39m\u001b[38;5;28;01mTrue\u001b[39;00m)\n\u001b[1;32m      9\u001b[0m     df_raw\u001b[38;5;241m.\u001b[39mrename(columns\u001b[38;5;241m=\u001b[39m{\u001b[38;5;124m\"\u001b[39m\u001b[38;5;124m일자\u001b[39m\u001b[38;5;124m\"\u001b[39m:\u001b[38;5;124m\"\u001b[39m\u001b[38;5;124mday\u001b[39m\u001b[38;5;124m\"\u001b[39m,\u001b[38;5;124m\"\u001b[39m\u001b[38;5;124m매출처\u001b[39m\u001b[38;5;124m\"\u001b[39m:\u001b[38;5;124m\"\u001b[39m\u001b[38;5;124mcustomer\u001b[39m\u001b[38;5;124m\"\u001b[39m,\u001b[38;5;124m\"\u001b[39m\u001b[38;5;124m코드\u001b[39m\u001b[38;5;124m\"\u001b[39m:\u001b[38;5;124m\"\u001b[39m\u001b[38;5;124mcode\u001b[39m\u001b[38;5;124m\"\u001b[39m,\u001b[38;5;124m\"\u001b[39m\u001b[38;5;124m수량\u001b[39m\u001b[38;5;124m\"\u001b[39m:\u001b[38;5;124m\"\u001b[39m\u001b[38;5;124mquantity\u001b[39m\u001b[38;5;124m\"\u001b[39m, \u001b[38;5;124m\"\u001b[39m\u001b[38;5;124m단가\u001b[39m\u001b[38;5;124m\"\u001b[39m:\u001b[38;5;124m\"\u001b[39m\u001b[38;5;124mprice\u001b[39m\u001b[38;5;124m\"\u001b[39m, \u001b[38;5;124m\"\u001b[39m\u001b[38;5;124m합계\u001b[39m\u001b[38;5;124m\"\u001b[39m:\u001b[38;5;124m\"\u001b[39m\u001b[38;5;124mtotal\u001b[39m\u001b[38;5;124m\"\u001b[39m, \u001b[38;5;124m\"\u001b[39m\u001b[38;5;124m금액\u001b[39m\u001b[38;5;124m\"\u001b[39m:\u001b[38;5;124m\"\u001b[39m\u001b[38;5;124msum\u001b[39m\u001b[38;5;124m\"\u001b[39m, \u001b[38;5;124m\"\u001b[39m\u001b[38;5;124m세액\u001b[39m\u001b[38;5;124m\"\u001b[39m:\u001b[38;5;124m\"\u001b[39m\u001b[38;5;124mtax\u001b[39m\u001b[38;5;124m\"\u001b[39m, \u001b[38;5;124m\"\u001b[39m\u001b[38;5;124m비고\u001b[39m\u001b[38;5;124m\"\u001b[39m:\u001b[38;5;124m\"\u001b[39m\u001b[38;5;124metc\u001b[39m\u001b[38;5;124m\"\u001b[39m}, inplace\u001b[38;5;241m=\u001b[39m\u001b[38;5;28;01mTrue\u001b[39;00m)\n",
      "\u001b[0;31mNameError\u001b[0m: name 'pd' is not defined"
     ]
    }
   ],
   "source": [
    "temp = DataConnector.df_preprocess(df_list)"
   ]
  },
  {
   "cell_type": "code",
   "execution_count": null,
   "id": "43270481-5df1-48a9-9266-bf84125e08f8",
   "metadata": {},
   "outputs": [],
   "source": []
  }
 ],
 "metadata": {
  "kernelspec": {
   "display_name": "Python 3 (ipykernel)",
   "language": "python",
   "name": "python3"
  },
  "language_info": {
   "codemirror_mode": {
    "name": "ipython",
    "version": 3
   },
   "file_extension": ".py",
   "mimetype": "text/x-python",
   "name": "python",
   "nbconvert_exporter": "python",
   "pygments_lexer": "ipython3",
   "version": "3.8.10"
  }
 },
 "nbformat": 4,
 "nbformat_minor": 5
}
